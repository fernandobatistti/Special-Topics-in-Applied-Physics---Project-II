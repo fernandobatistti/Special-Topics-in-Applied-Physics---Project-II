{
  "nbformat": 4,
  "nbformat_minor": 0,
  "metadata": {
    "colab": {
      "provenance": [],
      "mount_file_id": "1N5j0GojIKkEsOiMqzK9YEQKP0ZpzJaFq",
      "authorship_tag": "ABX9TyO/cIEyhC/jBgeRbDkZhx0W",
      "include_colab_link": true
    },
    "kernelspec": {
      "name": "python3",
      "display_name": "Python 3"
    },
    "language_info": {
      "name": "python"
    }
  },
  "cells": [
    {
      "cell_type": "markdown",
      "metadata": {
        "id": "view-in-github",
        "colab_type": "text"
      },
      "source": [
        "<a href=\"https://colab.research.google.com/github/fernandobatistti/Special-Topics-in-Applied-Physics---Project-II/blob/main/Code/Projeto_II_C%C3%B3digo_Fonte.ipynb\" target=\"_parent\"><img src=\"https://colab.research.google.com/assets/colab-badge.svg\" alt=\"Open In Colab\"/></a>"
      ]
    },
    {
      "cell_type": "markdown",
      "source": [
        "**INSTITUTO LATINO-AMERICANO DECIÊNCIAS DA VIDA E DA NATUREZA (ILACVN)**\n",
        "\n",
        "Curso: Física Aplicada\n",
        "\n",
        "Disciplina: FIS0006 - TÓPICOS ESPECIAIS EM FÍSICA EXPERIMENTAL\n",
        "\n",
        "Professor JOYLAN NUNES MACIEL\n",
        "\n",
        "\n",
        "\n",
        "\n",
        "\n",
        "**Projeto I: Classificação de dígitos manuscritos (MNIST)**\n",
        "\n",
        "\n",
        "\n",
        "Estudante:\n",
        "Fernando José Zardinello Batistti \t(2024101000016465)\n",
        "\n",
        "\n",
        "\n",
        "\n",
        "Foz do Iguaçu, 06 de junho de 2025.\n",
        "\n"
      ],
      "metadata": {
        "id": "KZ2_Rpn4L3uw"
      }
    },
    {
      "cell_type": "markdown",
      "source": [
        "# Projeto II - Classificação de dígitos manuscritos (MNIST)\n"
      ],
      "metadata": {
        "id": "YhCxW58aml3a"
      }
    },
    {
      "cell_type": "code",
      "source": [
        "### 0. Bibliotecas que serão utilizadas\n",
        "import matplotlib.pyplot as plt\n",
        "import numpy as np\n",
        "import pandas as pd\n",
        "import seaborn as sns\n",
        "from IPython.display import display\n",
        "import os\n",
        "import joblib\n",
        "\n",
        "from sklearn.model_selection import train_test_split, StratifiedKFold\n",
        "from sklearn.metrics import classification_report, confusion_matrix, ConfusionMatrixDisplay\n",
        "\n",
        "import tensorflow as tf\n",
        "from tensorflow import keras\n",
        "from tensorflow.keras.models import Sequential\n",
        "from tensorflow.keras.layers import Conv2D, MaxPooling2D, Flatten, Dense, Dropout\n",
        "from tensorflow.keras.utils import to_categorical\n",
        "\n",
        "# Instalar o Keras Tuner, que será usado na etapa 9\n",
        "!pip install -q -U keras-tuner\n",
        "import keras_tuner as kt"
      ],
      "metadata": {
        "id": "BGoTa5Ubnset",
        "colab": {
          "base_uri": "https://localhost:8080/"
        },
        "outputId": "45e0dbb5-eeb4-4e99-f7c7-27ccfb644ffd"
      },
      "execution_count": 3,
      "outputs": [
        {
          "output_type": "stream",
          "name": "stdout",
          "text": [
            "\u001b[?25l   \u001b[90m━━━━━━━━━━━━━━━━━━━━━━━━━━━━━━━━━━━━━━━━\u001b[0m \u001b[32m0.0/129.1 kB\u001b[0m \u001b[31m?\u001b[0m eta \u001b[36m-:--:--\u001b[0m\r\u001b[2K   \u001b[91m━━━━━━━━━━━━━━━━━━━━━━━━━━━━━━━━━━━━━━\u001b[0m\u001b[90m╺\u001b[0m\u001b[90m━\u001b[0m \u001b[32m122.9/129.1 kB\u001b[0m \u001b[31m4.2 MB/s\u001b[0m eta \u001b[36m0:00:01\u001b[0m\r\u001b[2K   \u001b[90m━━━━━━━━━━━━━━━━━━━━━━━━━━━━━━━━━━━━━━━━\u001b[0m \u001b[32m129.1/129.1 kB\u001b[0m \u001b[31m2.9 MB/s\u001b[0m eta \u001b[36m0:00:00\u001b[0m\n",
            "\u001b[?25h"
          ]
        }
      ]
    },
    {
      "cell_type": "markdown",
      "source": [
        "## 1) Coleta de dados"
      ],
      "metadata": {
        "id": "SxKEIJizmvpt"
      }
    },
    {
      "cell_type": "code",
      "source": [
        "### 1. Coleta de Dados\n",
        "from google.colab import drive\n",
        "drive.mount('/content/drive', force_remount=True)\n",
        "\n",
        "def unpickle(file):\n",
        "    import pickle\n",
        "    with open(file, 'rb') as fo:\n",
        "        dict_data = pickle.load(fo, encoding='latin1')\n",
        "    return dict_data\n",
        "\n",
        "qmnist = unpickle(\"/content/drive/MyDrive/Tópicos Especiais Em Física Experimental/Projeto MNIST/Dados/MNIST-120k\")\n",
        "data = qmnist['data']\n",
        "labels = np.array(qmnist['labels'])\n",
        "\n",
        "print(\"Dados carregados com sucesso!\")\n",
        "# Visualizar algumas imagens para confirmar\n",
        "plt.figure(figsize=(10, 5))\n",
        "for i in range(5):\n",
        "    imagem = np.array(data[i]).reshape(28, 28)\n",
        "    plt.subplot(1, 5, i + 1)\n",
        "    plt.imshow(imagem, cmap='gray')\n",
        "    plt.title(f'Rótulo: {labels[i]}')\n",
        "    plt.axis('off')\n",
        "plt.show()"
      ],
      "metadata": {
        "colab": {
          "base_uri": "https://localhost:8080/",
          "height": 227
        },
        "id": "SIF9WqsTyVS6",
        "outputId": "75fd6be3-ef0b-41c8-f234-4645ae15d373"
      },
      "execution_count": 4,
      "outputs": [
        {
          "output_type": "stream",
          "name": "stdout",
          "text": [
            "Mounted at /content/drive\n",
            "Dados carregados com sucesso!\n"
          ]
        },
        {
          "output_type": "display_data",
          "data": {
            "text/plain": [
              "<Figure size 1000x500 with 5 Axes>"
            ],
            "image/png": "[encoded data removed]"
          },
          "metadata": {}
        }
      ]
    },
    {
      "cell_type": "markdown",
      "source": [
        "## 2) Limpeza e pré-processamento de dados"
      ],
      "metadata": {
        "id": "u0fq8C70nWCE"
      }
    },
    {
      "cell_type": "code",
      "source": [
        "### 2. Limpeza e Pré-processamento de Dados\n",
        "\n",
        "# Verificar se há valores nulos (improvável para este dataset, mas é uma boa prática)\n",
        "print(f\"Valores nulos nos dados: {np.isnan(data).any()}\")\n",
        "\n",
        "# 1. Normalizar os dados de pixels para o intervalo [0, 1]\n",
        "X = np.array(data) / 255.0\n",
        "\n",
        "# 2. Remodelar os dados para o formato que a CNN espera: (amostras, altura, largura, canais)\n",
        "X = X.reshape(-1, 28, 28, 1)\n",
        "\n",
        "# 3. Manter os rótulos como inteiros por enquanto\n",
        "y_inteiros = np.array(labels)\n",
        "\n",
        "print(\"\\nPré-processamento concluído.\")\n",
        "print(f\"Formato dos dados (X): {X.shape}\")\n",
        "print(f\"Formato dos rótulos (y_inteiros): {y_inteiros.shape}\")"
      ],
      "metadata": {
        "colab": {
          "base_uri": "https://localhost:8080/"
        },
        "id": "uCZn0dYgqZ-D",
        "outputId": "08f11711-5baa-4d00-b4f7-dace3d80ea51"
      },
      "execution_count": 5,
      "outputs": [
        {
          "output_type": "stream",
          "name": "stdout",
          "text": [
            "Valores nulos nos dados: False\n",
            "\n",
            "Pré-processamento concluído.\n",
            "Formato dos dados (X): (120000, 28, 28, 1)\n",
            "Formato dos rótulos (y_inteiros): (120000, 1)\n"
          ]
        }
      ]
    },
    {
      "cell_type": "markdown",
      "source": [
        "## 3) Análise Exploratória de Dados (EDA)"
      ],
      "metadata": {
        "id": "_yaoI5Mbnesn"
      }
    },
    {
      "cell_type": "code",
      "source": [
        "### 3. Análise Exploratória de Dados (EDA)\n",
        "\n",
        "# Configurações de estilo para os gráficos\n",
        "sns.set_style(\"whitegrid\")\n",
        "\n",
        "# 1. Verificar o balanceamento das classes\n",
        "# Contar quantas amostras existem para cada dígito (0 a 9)\n",
        "plt.figure(figsize=(12, 6))\n",
        "\n",
        "# Usamos .flatten() para garantir que o array seja unidimensional\n",
        "sns.countplot(x=y_inteiros.flatten())\n",
        "# -----------------------------\n",
        "\n",
        "plt.title('Distribuição das Classes (dígitos de 0 a 9)')\n",
        "plt.xlabel('Dígito')\n",
        "plt.ylabel('Contagem')\n",
        "plt.show()\n",
        "\n",
        "# 2. Visualizar a \"imagem média\" para cada dígito\n",
        "# Esta parte do código já deve funcionar corretamente, pois não depende da dimensão do y_inteiros da mesma forma.\n",
        "fig, axes = plt.subplots(2, 5, figsize=(15, 6))\n",
        "axes = axes.flatten()\n",
        "\n",
        "for i in range(10):\n",
        "    # Filtrar os dados para o dígito atual\n",
        "    # O .flatten() aqui também ajuda a garantir que a comparação booleana funcione corretamente\n",
        "    imagens_do_digito = X[y_inteiros.flatten() == i]\n",
        "    # Calcular a média de todos os pixels\n",
        "    imagem_media = np.mean(imagens_do_digito, axis=0)\n",
        "    # Exibir a imagem média\n",
        "    axes[i].imshow(imagem_media.reshape(28, 28), cmap='gray')\n",
        "    axes[i].set_title(f'Média do Dígito {i}')\n",
        "    axes[i].axis('off')\n",
        "\n",
        "plt.tight_layout()\n",
        "plt.show()"
      ],
      "metadata": {
        "colab": {
          "base_uri": "https://localhost:8080/",
          "height": 998
        },
        "id": "TSiadGDm-6z7",
        "outputId": "9ec73b25-5191-4f68-ce72-f291b9bbe91f"
      },
      "execution_count": 6,
      "outputs": [
        {
          "output_type": "display_data",
          "data": {
            "text/plain": [
              "<Figure size 1200x600 with 1 Axes>"
            ],
            "image/png": "[encoded data removed]"
          },
          "metadata": {}
        },
        {
          "output_type": "display_data",
          "data": {
            "text/plain": [
              "<Figure size 1500x600 with 10 Axes>"
            ],
            "image/png": "[encoded data removed]"
          },
          "metadata": {}
        }
      ]
    },
    {
      "cell_type": "markdown",
      "source": [
        "## 4) Engenharia de Características (*Feature Engineering*)"
      ],
      "metadata": {
        "id": "1N6yWyDDnfnl"
      }
    },
    {
      "cell_type": "markdown",
      "source": [
        "Engenharia de Características (Feature Engineering):\n",
        "\n",
        "Aqui, justificamos por que esta etapa é diferente para Redes Neurais Convolucionais (CNNs).\n",
        "\n",
        "Justificativa:\n",
        "Para modelos de Machine Learning clássicos, a engenharia de características é uma etapa manual e crucial onde o cientista de dados cria novas features para ajudar o modelo a aprender.\n",
        "No caso de Deep Learning com CNNs, a principal vantagem é que a rede neural realiza a engenharia de características automaticamente. As camadas convolucionais (Conv2D) são projetadas especificamente para aprender a extrair features relevantes diretamente dos pixels brutos. Elas aprendem a identificar bordas, texturas, formas e, em camadas mais profundas, partes de objetos (como o laço de um '8' ou a haste de um '7').\n",
        "Portanto, para este projeto, não há uma etapa de engenharia de características manual. O pré-processamento (normalização e remodelação) que fizemos na etapa 2 é suficiente para preparar os dados para a CNN."
      ],
      "metadata": {
        "id": "q3tjFktVnfnm"
      }
    },
    {
      "cell_type": "markdown",
      "source": [
        "## 5) Divisão do dataset (treinamento e teste)"
      ],
      "metadata": {
        "id": "6lmf2v2Lnge0"
      }
    },
    {
      "cell_type": "code",
      "source": [
        "### 5. Divisão do Dataset\n",
        "\n",
        "num_classes = len(np.unique(y_inteiros))\n",
        "\n",
        "# Dividir os dados\n",
        "X_treino, X_teste, y_treino_int, y_teste_int = train_test_split(\n",
        "    X, y_inteiros,\n",
        "    test_size=0.2,\n",
        "    random_state=42,\n",
        "    stratify=y_inteiros\n",
        ")\n",
        "\n",
        "# Converter rótulos para one-hot encoding\n",
        "y_treino = to_categorical(y_treino_int, num_classes=num_classes)\n",
        "y_teste = to_categorical(y_teste_int, num_classes=num_classes)\n",
        "\n",
        "print(\"Dimensões dos conjuntos:\")\n",
        "print(\"X_treino:\", X_treino.shape, \"| y_treino:\", y_treino.shape)\n",
        "print(\"X_teste:\", X_teste.shape, \"| y_teste:\", y_teste.shape)"
      ],
      "metadata": {
        "id": "R20WTzWKIOXh",
        "colab": {
          "base_uri": "https://localhost:8080/"
        },
        "outputId": "d83771aa-8134-468c-e7eb-74c53ce2b795"
      },
      "execution_count": 7,
      "outputs": [
        {
          "output_type": "stream",
          "name": "stdout",
          "text": [
            "Dimensões dos conjuntos:\n",
            "X_treino: (96000, 28, 28, 1) | y_treino: (96000, 10)\n",
            "X_teste: (24000, 28, 28, 1) | y_teste: (24000, 10)\n"
          ]
        }
      ]
    },
    {
      "cell_type": "markdown",
      "source": [
        "## 6) Escolha do Modelo"
      ],
      "metadata": {
        "id": "r_qB9jzgngjx"
      }
    },
    {
      "cell_type": "code",
      "source": [
        "### 6. Escolha do modelo (com Validação Cruzada e Gráficos)\n",
        "\n",
        "# Definir o número de folds para a validação cruzada\n",
        "n_splits = 3 # Usar 3 folds é um bom começo. Ajuste se necessário.\n",
        "\n",
        "# Configurar o StratifiedKFold\n",
        "kf = StratifiedKFold(n_splits=n_splits, shuffle=True, random_state=42)\n",
        "\n",
        "# Listas para armazenar as pontuações e históricos\n",
        "pontuacoes_acuracia = []\n",
        "historicos_treinamento = []\n",
        "\n",
        "# Loop sobre os folds usando o conjunto de TREINO\n",
        "for fold, (indices_treino_fold, indices_validacao_fold) in enumerate(kf.split(X_treino, y_treino_int)):\n",
        "    print(f\"===== Fold {fold + 1}/{n_splits} =====\")\n",
        "\n",
        "    X_treino_kfold, X_validacao_kfold = X_treino[indices_treino_fold], X_treino[indices_validacao_fold]\n",
        "    y_treino_kfold, y_validacao_kfold = y_treino[indices_treino_fold], y_treino[indices_validacao_fold]\n",
        "\n",
        "    # Construir um NOVO modelo CNN para cada fold\n",
        "    modelo_fold = Sequential([\n",
        "        Conv2D(32, (3, 3), activation='relu', input_shape=(28, 28, 1)),\n",
        "        MaxPooling2D((2, 2)),\n",
        "        Conv2D(64, (3, 3), activation='relu'),\n",
        "        MaxPooling2D((2, 2)),\n",
        "        Flatten(),\n",
        "        Dense(100, activation='relu'),\n",
        "        Dropout(0.5),\n",
        "        Dense(num_classes, activation='softmax')\n",
        "    ])\n",
        "\n",
        "    modelo_fold.compile(optimizer='adam',\n",
        "                        loss='categorical_crossentropy',\n",
        "                        metrics=['accuracy'])\n",
        "\n",
        "    # Treinar o modelo no fold atual\n",
        "    historico_fold = modelo_fold.fit(X_treino_kfold, y_treino_kfold,\n",
        "                                     epochs=10,\n",
        "                                     batch_size=32,\n",
        "                                     validation_data=(X_validacao_kfold, y_validacao_kfold),\n",
        "                                     verbose=1)\n",
        "\n",
        "    # Avaliar e armazenar os resultados do fold\n",
        "    perda_fold, acuracia_fold = modelo_fold.evaluate(X_validacao_kfold, y_validacao_kfold, verbose=0)\n",
        "    print(f\"\\nAcurácia de Validação do Fold {fold + 1}: {acuracia_fold:.4f}\")\n",
        "    pontuacoes_acuracia.append(acuracia_fold)\n",
        "    historicos_treinamento.append(historico_fold)\n",
        "\n",
        "    # Plotando as curvas de aprendizado para o fold atual\n",
        "    fig, ax = plt.subplots(1, 2, figsize=(16, 5))\n",
        "\n",
        "    # --- Gráfico da Perda (Loss) ---\n",
        "    ax[0].plot(historico_fold.history['loss'], label='Perda de Treinamento', color='blue')\n",
        "    ax[0].plot(historico_fold.history['val_loss'], label='Perda de Validação', color='orange')\n",
        "    ax[0].set_title(f'Curva de Perda (Loss) - Fold {fold + 1}')\n",
        "    ax[0].set_xlabel('Época')\n",
        "    ax[0].set_ylabel('Perda')\n",
        "    ax[0].legend()\n",
        "    ax[0].grid(True)\n",
        "\n",
        "    # --- Gráfico da Acurácia ---\n",
        "    ax[1].plot(historico_fold.history['accuracy'], label='Acurácia de Treinamento', color='blue')\n",
        "    ax[1].plot(historico_fold.history['val_accuracy'], label='Acurácia de Validação', color='orange')\n",
        "    ax[1].set_title(f'Curva de Acurácia - Fold {fold + 1}')\n",
        "    ax[1].set_xlabel('Época')\n",
        "    ax[1].set_ylabel('Acurácia')\n",
        "    ax[1].legend()\n",
        "    ax[1].grid(True)\n",
        "\n",
        "    plt.show()\n",
        "    # ===============================================================================\n",
        "\n",
        "# Exibir os resultados consolidados da validação cruzada\n",
        "print(\"\\n===== Resultados Finais da Validação Cruzada =====\")\n",
        "print(f\"Pontuações de acurácia por fold: {[f'{acc:.4f}' for acc in pontuacoes_acuracia]}\")\n",
        "print(f\"Acurácia média: {np.mean(pontuacoes_acuracia):.4f} (+/- {np.std(pontuacoes_acuracia):.4f})\")"
      ],
      "metadata": {
        "colab": {
          "base_uri": "https://localhost:8080/"
        },
        "id": "svIO2_h5KH23",
        "outputId": "c084fde2-53f2-4178-9a9e-1c499baaec3a"
      },
      "execution_count": null,
      "outputs": [
        {
          "output_type": "stream",
          "name": "stdout",
          "text": [
            "===== Fold 1/3 =====\n"
          ]
        },
        {
          "output_type": "stream",
          "name": "stderr",
          "text": [
            "/usr/local/lib/python3.11/dist-packages/keras/src/layers/convolutional/base_conv.py:107: UserWarning: Do not pass an `input_shape`/`input_dim` argument to a layer. When using Sequential models, prefer using an `Input(shape)` object as the first layer in the model instead.\n",
            "  super().__init__(activity_regularizer=activity_regularizer, **kwargs)\n"
          ]
        },
        {
          "output_type": "stream",
          "name": "stdout",
          "text": [
            "Epoch 1/10\n",
            "\u001b[1m2000/2000\u001b[0m \u001b[32m━━━━━━━━━━━━━━━━━━━━\u001b[0m\u001b[37m\u001b[0m \u001b[1m86s\u001b[0m 41ms/step - accuracy: 0.8546 - loss: 0.4514 - val_accuracy: 0.9806 - val_loss: 0.0604\n",
            "Epoch 2/10\n"
          ]
        }
      ]
    },
    {
      "cell_type": "markdown",
      "source": [
        "## 7) Implementação, treinamento (e validação, alguns modelos)"
      ],
      "metadata": {
        "id": "ZuuLQq7DngpG"
      }
    },
    {
      "cell_type": "code",
      "source": [
        "### 7. Implementação e Treinamento\n",
        "\n",
        "print(\"--- Treinando o Modelo Final ---\")\n",
        "\n",
        "# Construir o modelo final com a arquitetura validada\n",
        "modelo_final = Sequential([\n",
        "    Conv2D(32, (3, 3), activation='relu', input_shape=(28, 28, 1)),\n",
        "    MaxPooling2D((2, 2)),\n",
        "    Conv2D(64, (3, 3), activation='relu'),\n",
        "    MaxPooling2D((2, 2)),\n",
        "    Flatten(),\n",
        "    Dense(100, activation='relu'),\n",
        "    Dropout(0.5),\n",
        "    Dense(num_classes, activation='softmax')\n",
        "])\n",
        "\n",
        "modelo_final.compile(optimizer='adam',\n",
        "                     loss='categorical_crossentropy',\n",
        "                     metrics=['accuracy'])\n",
        "\n",
        "# Treinar o modelo\n",
        "historico_final = modelo_final.fit(X_treino, y_treino,\n",
        "                                   epochs=15,\n",
        "                                   batch_size=32,\n",
        "                                   validation_data=(X_teste, y_teste), # Usando o teste para validação aqui\n",
        "                                   verbose=1)"
      ],
      "metadata": {
        "id": "uoSbKzKhK3vW"
      },
      "execution_count": null,
      "outputs": []
    },
    {
      "cell_type": "markdown",
      "source": [
        "## 8) Avaliação com dados de teste"
      ],
      "metadata": {
        "id": "y97HzK-Pngtt"
      }
    },
    {
      "cell_type": "code",
      "source": [
        "### 8. Avaliação com Dados de Teste\n",
        "\n",
        "# Avaliar o desempenho no conjunto de teste\n",
        "perda_teste, acuracia_teste = modelo_final.evaluate(X_teste, y_teste, verbose=0)\n",
        "print(f\"\\nAcurácia Geral no Conjunto de Teste: {acuracia_teste:.4f}\")\n",
        "print(f\"Perda no Conjunto de Teste: {perda_teste:.4f}\")\n",
        "\n",
        "# Fazer previsões\n",
        "previsoes_prob = modelo_final.predict(X_teste)\n",
        "classes_previstas = np.argmax(previsoes_prob, axis=1)\n",
        "\n",
        "# Relatório de Classificação\n",
        "print(\"\\nRelatório de Classificação:\")\n",
        "print(classification_report(y_teste_int, classes_previstas))\n",
        "\n",
        "# Matriz de Confusão\n",
        "matriz_conf = confusion_matrix(y_teste_int, classes_previstas)\n",
        "disp = ConfusionMatrixDisplay(confusion_matrix=matriz_conf, display_labels=np.arange(num_classes))\n",
        "fig, ax = plt.subplots(figsize=(10, 8))\n",
        "disp.plot(ax=ax, cmap='Blues')\n",
        "plt.title('Matriz de Confusão')\n",
        "plt.show()"
      ],
      "metadata": {
        "id": "AiMYLUvPN70K"
      },
      "execution_count": null,
      "outputs": []
    },
    {
      "cell_type": "markdown",
      "source": [
        "## 9) Otimização e ajuste de hiperparâmetros (*Fine Tunning*)"
      ],
      "metadata": {
        "id": "u8LTEQiZngyd"
      }
    },
    {
      "cell_type": "markdown",
      "source": [],
      "metadata": {
        "id": "qNb2AS4Vngye"
      }
    },
    {
      "cell_type": "code",
      "source": [
        "### 9. Otimização e Ajuste de Hiperparâmetros\n",
        "\n",
        "def build_model(hp):\n",
        "    \"\"\"Função que constrói o modelo, usada pelo KerasTuner.\"\"\"\n",
        "    model = Sequential()\n",
        "    model.add(Conv2D(\n",
        "        filters=hp.Int('conv_1_filter', min_value=32, max_value=64, step=16),\n",
        "        kernel_size=hp.Choice('conv_1_kernel', values=[3, 5]),\n",
        "        activation='relu',\n",
        "        input_shape=(28, 28, 1)\n",
        "    ))\n",
        "    model.add(MaxPooling2D((2, 2)))\n",
        "    model.add(Conv2D(\n",
        "        filters=hp.Int('conv_2_filter', min_value=64, max_value=128, step=32),\n",
        "        kernel_size=hp.Choice('conv_2_kernel', values=[3, 5]),\n",
        "        activation='relu'\n",
        "    ))\n",
        "    model.add(MaxPooling2D((2, 2)))\n",
        "    model.add(Flatten())\n",
        "    model.add(Dense(\n",
        "        units=hp.Int('dense_units', min_value=100, max_value=200, step=50),\n",
        "        activation='relu'\n",
        "    ))\n",
        "    model.add(Dropout(hp.Float('dropout_rate', min_value=0.2, max_value=0.5, step=0.1)))\n",
        "    model.add(Dense(num_classes, activation='softmax'))\n",
        "\n",
        "    hp_learning_rate = hp.Choice('learning_rate', values=[1e-2, 1e-3, 1e-4])\n",
        "\n",
        "    model.compile(optimizer=keras.optimizers.Adam(learning_rate=hp_learning_rate),\n",
        "                  loss='categorical_crossentropy',\n",
        "                  metrics=['accuracy'])\n",
        "    return model\n",
        "\n",
        "# Instanciar o tuner\n",
        "tuner = kt.RandomSearch(\n",
        "    build_model,\n",
        "    objective='val_accuracy',\n",
        "    max_trials=5,  # Número de combinações a serem testadas. Aumente para uma busca mais exaustiva.\n",
        "    executions_per_trial=1,\n",
        "    directory='mnist_tuning',\n",
        "    project_name='mnist_cnn'\n",
        ")\n",
        "\n",
        "print(\"--- Iniciando a Otimização de Hiperparâmetros ---\")\n",
        "# Usar uma pequena porção dos dados para acelerar a busca\n",
        "X_treino_subset = X_treino[:20000]\n",
        "y_treino_subset = y_treino[:20000]\n",
        "tuner.search(X_treino_subset, y_treino_subset, epochs=5, validation_split=0.2)\n",
        "\n",
        "# Obter os melhores hiperparâmetros e o melhor modelo\n",
        "best_hps = tuner.get_best_hyperparameters(num_trials=1)[0]\n",
        "modelo_otimizado = tuner.get_best_models(num_models=1)[0]\n",
        "\n",
        "print(f\"\"\"\n",
        "--- Otimização Concluída ---\n",
        "A melhor taxa de aprendizado é {best_hps.get('learning_rate')}.\n",
        "O número ideal de filtros na primeira camada Conv2D é {best_hps.get('conv_1_filter')}.\n",
        "O número ideal de unidades na camada Dense é {best_hps.get('dense_units')}.\n",
        "\"\"\")\n",
        "\n",
        "# Avaliar o modelo otimizado\n",
        "print(\"\\n--- Avaliando o Modelo Otimizado ---\")\n",
        "loss, accuracy = modelo_otimizado.evaluate(X_teste, y_teste)\n",
        "print(f\"Acurácia do modelo otimizado: {accuracy:.4f}\")"
      ],
      "metadata": {
        "id": "IFVDn5UDAFRV"
      },
      "execution_count": null,
      "outputs": []
    },
    {
      "cell_type": "markdown",
      "source": [
        "## 10) Implantação, validação e monitoramento"
      ],
      "metadata": {
        "id": "omXJLApkng2z"
      }
    },
    {
      "cell_type": "code",
      "source": [
        "### 10. Implantação, Validação e Monitoramento\n",
        "\n",
        "# 1. SALVAR O MODELO FINAL (O MELHOR MODELO OTIMIZADO)\n",
        "# Para modelos Keras/TensorFlow, o formato .keras é o mais moderno e recomendado.\n",
        "caminho_da_pasta = '/content/drive/MyDrive/Tópicos Especiais Em Física Experimental/Projeto MNIST/Modelo'\n",
        "nome_do_arquivo = 'modelo_mnist_cnn_otimizado.keras'\n",
        "caminho_completo = os.path.join(caminho_da_pasta, nome_do_arquivo)\n",
        "os.makedirs(caminho_da_pasta, exist_ok=True)\n",
        "\n",
        "# Salvar o modelo otimizado\n",
        "modelo_otimizado.save(caminho_completo)\n",
        "print(f\"Modelo otimizado salvo em: {caminho_completo}\")\n",
        "\n",
        "# CARREGAR E USAR O MODELO (EXEMPLO)\n",
        "modelo_carregado = keras.models.load_model(caminho_completo)\n",
        "print(\"\\nModelo carregado com sucesso!\")\n",
        "\n",
        "# Fazer uma previsão em uma imagem de teste\n",
        "previsao = modelo_carregado.predict(X_teste[0:1])\n",
        "print(f\"Previsão para a primeira imagem de teste: {np.argmax(previsao)}\")\n",
        "print(f\"Rótulo real: {y_teste_int[0]}\")"
      ],
      "metadata": {
        "id": "Glkf5RzAAHlH"
      },
      "execution_count": null,
      "outputs": []
    }
  ]
}